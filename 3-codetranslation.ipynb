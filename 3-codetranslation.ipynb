{
 "cells": [
  {
   "cell_type": "markdown",
   "id": "23880138",
   "metadata": {},
   "source": [
    "## Validating code translation with CLDK\n",
    "\n",
    "In this tutorial, we will use CLDK to translate code and check properties of the translated code. You'll explore some of the benefits of using CLDK to perform quick and easy program analysis for this task. By the end of this tutorial, you will have implemented a simple Java-to-Python code translator that also performs light-weight property checking on the translated code.\n",
    "\n",
    "Specifically, you will learn how to perform the following tasks on a Java application to create LLM prompts for code translation and checking the translated code:\n",
    "\n",
    "1. Create a new instance of the CLDK class.\n",
    "2. Create an analysis object for the target Java application.\n",
    "3. Iterate over all files in the application.\n",
    "4. Iterate over all classes in a file.\n",
    "5. Sanitize the class for prompting the LLM.\n",
    "6. Create treesitter-based Java and Python analysis objects"
   ]
  },
  {
   "cell_type": "code",
   "execution_count": null,
   "id": "a3cf0a13",
   "metadata": {},
   "outputs": [],
   "source": [
    "%%bash\n",
    "python3 -m venv .venv\n",
    "source .venv/bin/activate\n",
    "pip install -U -r requirements.txt"
   ]
  },
  {
   "cell_type": "markdown",
   "id": "561892dc",
   "metadata": {},
   "source": [
    "## Let's setup our LLM \n",
    "\n",
    "We'll be using open router, so we'll load the API key from the environment variable `OPENROUTER_API`."
   ]
  },
  {
   "cell_type": "code",
   "execution_count": null,
   "id": "93a37b5e-ab2f-4a5b-82da-b573fb6e62da",
   "metadata": {
    "slideshow": {
     "slide_type": "slide"
    }
   },
   "outputs": [],
   "source": [
    "## Import API keys\n",
    "import os\n",
    "from dotenv import load_dotenv\n",
    "\n",
    "load_dotenv(dotenv_path=os.getenv(\"PWD\") + \"/.env\", override=True)\n",
    "# Load environment variables from .env file\n",
    "    \n",
    "print(\"API keys loaded successfully.\")\n",
    "print(f\"API_KEY: {os.getenv('OPENROUTER_API')[:3]}...{os.getenv('OPENROUTER_API')[-3:]}\")"
   ]
  },
  {
   "cell_type": "markdown",
   "id": "cdfb5125",
   "metadata": {},
   "source": [
    "#### Let's create a simple prompting function\n",
    "\n",
    "This function will take a prompt and return the response from the OpenRouter API."
   ]
  },
  {
   "cell_type": "code",
   "execution_count": null,
   "id": "cda0bd89",
   "metadata": {},
   "outputs": [],
   "source": [
    "from openai import OpenAI\n",
    "\n",
    "\n",
    "def prompt(message: str) -> str:\n",
    "    \"\"\"\n",
    "    Function to prompt the user for input.\n",
    "    \"\"\"\n",
    "    client = OpenAI(\n",
    "        base_url=\"https://openrouter.ai/api/v1\",\n",
    "        api_key=os.getenv(\"OPENROUTER_API\"),  # OpenRouter API key\n",
    "    )\n",
    "    completion = client.chat.completions.create(\n",
    "        model=\"meta-llama/llama-3.2-3b-instruct:free\", messages=[{\"role\": \"user\", \"content\": message}]\n",
    "    )\n",
    "\n",
    "    return completion.choices[0].message.content\n",
    "\n",
    "def test_prompt():\n",
    "    \"\"\"\n",
    "    Test function to check if the prompt function works correctly.\n",
    "    \"\"\"\n",
    "    test_message = \"What is the capital of France?\"\n",
    "    response = prompt(test_message)\n",
    "    \n",
    "    assert \"Paris\" in response, f\"Expected response to contain 'Paris', but got '{response}'\"\n",
    "\n",
    "test_prompt()"
   ]
  },
  {
   "cell_type": "markdown",
   "id": "82dbf01d",
   "metadata": {},
   "source": [
    "## Translating Java code to Python\n",
    "\n",
    "We'll start by downloading apache commons cli for this tutorial."
   ]
  },
  {
   "cell_type": "code",
   "execution_count": null,
   "id": "24a69fbe",
   "metadata": {
    "vscode": {
     "languageId": "shellscript"
    }
   },
   "outputs": [],
   "source": [
    "%%bash\n",
    "COMMONS=commons-cli-1.7.0  \n",
    "wget https://github.com/apache/commons-cli/archive/refs/tags/rel/$COMMONS.zip -O $COMMONS.zip && \\\n",
    "unzip -o $COMMONS.zip && \\\n",
    "rm -f $COMMONS.zip "
   ]
  },
  {
   "cell_type": "markdown",
   "id": "56f24b41",
   "metadata": {},
   "source": [
    "Next, let's create another helper function to formulate the prompt for summarizing the methods in a java application."
   ]
  },
  {
   "cell_type": "code",
   "execution_count": null,
   "id": "95a819b2",
   "metadata": {},
   "outputs": [],
   "source": [
    "def format_inst(code, focal_class, language):\n",
    "    \"\"\"\n",
    "    Format the LLM instruction for the given focal method and class.\n",
    "    \"\"\"\n",
    "    inst = f\"Translate the Java class `{focal_class}` below to Python and generate under code block (```)?\\n\"\n",
    "    inst += \"Generate the code under ``` code block.\\n\"\n",
    "    inst += f\"```{language}\\n\"\n",
    "    inst += code\n",
    "    inst += \"```\" if code.endswith(\"\\n\") else \"\\n```\"\n",
    "    inst += \"\\n\"\n",
    "    return inst"
   ]
  },
  {
   "cell_type": "markdown",
   "id": "e46b56e0",
   "metadata": {},
   "source": [
    "### Putting it all together\n",
    "\n",
    "Now that we have the analysis object, we will take a slightly different approach to generate the test cases: \n",
    "\n",
    "We go through all the classes in the application, and for each class, \n",
    "   1. We collect the signatures of its constructors. \n",
    "   2. If a class has no constructors, we add the signature of the default constructor. \n",
    "   3. We go through each non-private method of the class and formulate the prompt using the constructor and the method information. \n",
    "\n",
    "Finally, we use the prompt to call the LLM to generate test cases and get the LLM response. "
   ]
  },
  {
   "cell_type": "markdown",
   "id": "bb667ff7",
   "metadata": {},
   "source": [
    "> **NOTE:** For the sake of simplicity, we run the test generation on a single class and method but this filter can be removed to run this code over the entire application."
   ]
  },
  {
   "cell_type": "code",
   "execution_count": null,
   "id": "a133caf9",
   "metadata": {},
   "outputs": [],
   "source": [
    "target_class = \"org.apache.commons.cli.GnuParser\""
   ]
  },
  {
   "cell_type": "code",
   "execution_count": null,
   "id": "da78a014",
   "metadata": {},
   "outputs": [],
   "source": [
    "from cldk import CLDK\n",
    "from cldk.analysis.commons.treesitter import TreesitterPython, TreesitterJava\n",
    "\n",
    "analysis = CLDK(language=\"java\").analysis(\n",
    "    project_path=\"commons-cli-rel-commons-cli-1.7.0\",  #  <-- the path to the project we downloaded a few cells ago.\n",
    "    analysis_level=\"symbol table\",  # <-- This is the default, no need to specify it explicitly.\n",
    ")\n",
    "\n",
    "# Go through all the classes in the application\n",
    "for class_name in analysis.get_classes():\n",
    "\n",
    "    if class_name == target_class:\n",
    "        # Get the location of the Java class\n",
    "        class_path = analysis.get_java_file(qualified_class_name=class_name)\n",
    "\n",
    "        # Read the file content\n",
    "        if not class_path:\n",
    "            class_body = \"\"\n",
    "        with open(class_path, \"r\", encoding=\"utf-8\", errors=\"ignore\") as f:\n",
    "            class_body = f.read()\n",
    "\n",
    "        # Sanitize the file content by removing comments\n",
    "        sanitized_class = TreesitterJava().remove_all_comments(source_code=class_body)\n",
    "        # ^^^^^^^^^^^^^^^^^^^\n",
    "        # TreesitterJava API to remove comments\n",
    "\n",
    "        # Create prompt for translating sanitized Java class to Python\n",
    "        inst = format_inst(\n",
    "            code=sanitized_class, focal_class=class_name.split(\".\")[-1], language=\"java\"\n",
    "        )\n",
    "\n",
    "        print(f\"Instruction:\\n{inst}\\n\")\n",
    "        print(\n",
    "            f\"Translating Java code to Python and it will take few minutes (or even seconds) based on where the model has been hosted...\\n\"\n",
    "        )\n",
    "\n",
    "        # Prompt the local model on Ollama\n",
    "        translated_code = prompt(message=inst)\n",
    "\n",
    "        # Print translated code\n",
    "        print(f\"Translated Python code: \\n{translated_code}\\n\")\n",
    "\n",
    "        # Create python sitter instance for analyzing translated Python code\n",
    "        py_cldk = TreesitterPython()\n",
    "        # Compute methods, function, and field counts for translated code\n",
    "        all_methods = py_cldk.get_all_methods(module=translated_code)\n",
    "        # ^^^^^^^^^^^^^^^^^^^^^^^^^^^^^^^^^^^^^^^^^^^^^^^^^^^^^^^^^^^^^^^\n",
    "        all_functions = py_cldk.get_all_functions(module=translated_code)\n",
    "        all_fields = py_cldk.get_all_fields(module=translated_code)\n",
    "\n",
    "        # Check counts against method and field counts for Java code\n",
    "        assert len(all_methods) + len(all_functions) == len(\n",
    "            analysis.get_methods_in_class(qualified_class_name=class_name)\n",
    "        ), f\"Number of translated method not matching in class {class_name}\"\n",
    "        # ^^^^^^^^^^^^^^^^^^^^^^^^^^^^^^^^^^^^^^^^^^^^^^^^^^^^^^^^^^^^^^^^^^\n",
    "        # Raise an exception if the number of translated methods does not match\n",
    "        # the number of methods in the original Java class.\n",
    "\n",
    "        print(\n",
    "            f\"Number of translated method in class {class_name} is {len(all_methods)}\"\n",
    "        )\n",
    "        if all_fields is not None:\n",
    "            assert len(all_fields) == len(\n",
    "                analysis.get_class(qualified_class_name=class_name).field_declarations\n",
    "            ), f\"Number of translated field not matching in class {class_name}\"\n",
    "\n",
    "            print(\n",
    "                f\"Number of translated fields in class {class_name} is {len(all_fields)}\"\n",
    "            )"
   ]
  }
 ],
 "metadata": {
  "kernelspec": {
   "display_name": ".venv",
   "language": "python",
   "name": "python3"
  },
  "language_info": {
   "codemirror_mode": {
    "name": "ipython",
    "version": 3
   },
   "file_extension": ".py",
   "mimetype": "text/x-python",
   "name": "python",
   "nbconvert_exporter": "python",
   "pygments_lexer": "ipython3",
   "version": "3.11.9"
  }
 },
 "nbformat": 4,
 "nbformat_minor": 5
}
