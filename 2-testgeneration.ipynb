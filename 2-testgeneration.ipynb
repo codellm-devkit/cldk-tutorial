{
    "cells": [
        {
            "cell_type": "markdown",
            "id": "23880138",
            "metadata": {},
            "source": [
                "## Test Generation with CLDK\n",
                "\n",
                "In this tutorial, we will use CLDK to implement a simple unit test generator for Java. You'll explore some of the benefits of using CLDK to perform quick and easy program analysis and build an LLM-based test generator. By the end of this tutorial, you will have implemented such a tool and generated a JUnit test case for a Java application.\n",
                "\n",
                "Specifically, you will learn how to perform the following tasks on the application under test to create LLM prompts for test generation:\n",
                "\n",
                "1. Create a new instance of the CLDK class.\n",
                "2. Create an analysis object for the Java application under test.\n",
                "3. Iterate over all files in the application.\n",
                "4. Iterate over all classes in a file.\n",
                "5. Iterate over all methods in a class.\n",
                "6. Get the code body of a method.\n",
                "7. Get the constructors of a class.\n",
                "\n",
                "Let's get started by installing the required dependencies."
            ]
        },
        {
            "cell_type": "code",
            "execution_count": null,
            "id": "a3cf0a13",
            "metadata": {},
            "outputs": [],
            "source": [
                "%%bash\n",
                "python3 -m venv .venv\n",
                "source .venv/bin/activate\n",
                "pip install -U -r requirements.txt"
            ]
        },
        {
            "cell_type": "markdown",
            "id": "561892dc",
            "metadata": {},
            "source": [
                "## Let's setup our LLM \n",
                "\n",
                "We'll be using open router, so we'll load the API key from the environment variable `OPENROUTER_API`."
            ]
        },
        {
            "cell_type": "code",
            "execution_count": null,
            "id": "93a37b5e-ab2f-4a5b-82da-b573fb6e62da",
            "metadata": {
                "slideshow": {
                    "slide_type": "slide"
                }
            },
            "outputs": [],
            "source": [
                "## Import API keys\n",
                "import os\n",
                "from dotenv import load_dotenv\n",
                "\n",
                "load_dotenv(dotenv_path=os.getenv(\"PWD\") + \"/.env\", override=True)\n",
                "# Load environment variables from .env file\n",
                "    \n",
                "print(\"API keys loaded successfully.\")\n",
                "print(f\"API_KEY: {os.getenv('OPENROUTER_API')[:3]}...{os.getenv('OPENROUTER_API')[-3:]}\")"
            ]
        },
        {
            "cell_type": "markdown",
            "id": "cdfb5125",
            "metadata": {},
            "source": [
                "#### Let's create a simple prompting function\n",
                "\n",
                "This function will take a prompt and return the response from the OpenRouter API."
            ]
        },
        {
            "cell_type": "code",
            "execution_count": null,
            "id": "cda0bd89",
            "metadata": {},
            "outputs": [],
            "source": [
                "from openai import OpenAI\n",
                "\n",
                "\n",
                "def prompt(message: str) -> str:\n",
                "    \"\"\"\n",
                "    Function to prompt the user for input.\n",
                "    \"\"\"\n",
                "    client = OpenAI(\n",
                "        base_url=\"https://openrouter.ai/api/v1\",\n",
                "        api_key=os.getenv(\"OPENROUTER_API\"),  # OpenRouter API key\n",
                "    )\n",
                "    completion = client.chat.completions.create(\n",
                "        model=\"meta-llama/llama-3.2-3b-instruct:free\", messages=[{\"role\": \"user\", \"content\": message}]\n",
                "    )\n",
                "\n",
                "    return completion.choices[0].message.content\n",
                "\n",
                "def test_prompt():\n",
                "    \"\"\"\n",
                "    Test function to check if the prompt function works correctly.\n",
                "    \"\"\"\n",
                "    test_message = \"What is the capital of France?\"\n",
                "    response = prompt(test_message)\n",
                "    \n",
                "    assert \"Paris\" in response, f\"Expected response to contain 'Paris', but got '{response}'\"\n",
                "\n",
                "test_prompt()"
            ]
        },
        {
            "cell_type": "markdown",
            "id": "82dbf01d",
            "metadata": {},
            "source": [
                "## Generate unit tests for methods in a java application\n",
                "\n",
                "We'll start by downloading apache commons cli for this tutorial."
            ]
        },
        {
            "cell_type": "code",
            "execution_count": null,
            "id": "24a69fbe",
            "metadata": {
                "vscode": {
                    "languageId": "shellscript"
                }
            },
            "outputs": [],
            "source": [
                "%%bash\n",
                "COMMONS=commons-cli-1.7.0  \n",
                "wget https://github.com/apache/commons-cli/archive/refs/tags/rel/$COMMONS.zip -O $COMMONS.zip && \\\n",
                "unzip -o $COMMONS.zip && \\\n",
                "rm -f $COMMONS.zip "
            ]
        },
        {
            "cell_type": "markdown",
            "id": "56f24b41",
            "metadata": {},
            "source": [
                "Next, let's create another helper function to formulate the prompt for summarizing the methods in a java application."
            ]
        },
        {
            "cell_type": "code",
            "execution_count": null,
            "id": "95a819b2",
            "metadata": {},
            "outputs": [],
            "source": [
                "def format_inst(\n",
                "    focal_method_body, focal_method, focal_class, constructor_signatures, language\n",
                "):\n",
                "    \"\"\"\n",
                "    Format the LLM instruction for the given focal method and class.\n",
                "    \"\"\"\n",
                "    inst = f\"Can you generate junit tests with @Test annotation for the method `{focal_method}` in the class `{focal_class}` below. Only generate the test and no description.\\n\"\n",
                "    inst += \"Use the constructor signatures to form the object if the method is not static. Generate the code under ``` code block.\"\n",
                "    inst += \"\\n\"\n",
                "    inst += f\"```{language}\\n\"\n",
                "    inst += f\"public class {focal_class} \" + \"{\\n\"\n",
                "    inst += f\"{constructor_signatures}\\n\"\n",
                "    inst += f\"{focal_method_body} \\n\"\n",
                "    inst += \"}\\n\"\n",
                "    inst += \"```\\n\"\n",
                "    return inst"
            ]
        },
        {
            "cell_type": "markdown",
            "id": "b9eaa456",
            "metadata": {},
            "source": [
                "Let's initialize CLDK with Java as the language"
            ]
        },
        {
            "cell_type": "code",
            "execution_count": null,
            "id": "85f59e08",
            "metadata": {},
            "outputs": [],
            "source": [
                "from cldk import CLDK\n",
                "\n",
                "cldk = CLDK(language=\"java\")"
            ]
        },
        {
            "cell_type": "markdown",
            "id": "14adaaaf",
            "metadata": {},
            "source": [
                "#### Generate analysis artifacts\n",
                "\n",
                "##### What is CLDK analysis?\n",
                "CLDK uses [CodeAnalyzer](https://github.com/codellm-devkit/codeanalyzer-java) (built with [WALA](https://github.com/wala/WALA) and [JavaParser](https://github.com/javaparser/javaparser))as the Java analysis engine. CLDK supports different analysis levels: 1) symbol table, 2) call graph, 3) system dependency graph. \n",
                "\n",
                "The analysis level can be selected using the `AnalysisLevel` enumerated type. For this example, we select the symbol-table analysis level, with CodeAnalyzer as the default analysis engine.\n",
                "\n",
                "> **NOTE:** If the next cell throws an error `CalledProcessError`, make sure you have a working Java installation! See the [**CLDK Documentation**](https://codellm-devkit.info/installing/#java-analysis) for how to set this up.\n",
                "\n",
                "##### How to create an analysis object?\n",
                "\n",
                "To create an analysis object, we call `cldk.analysis(...)` with the following parameters:\n",
                "- `project_path`: The path to the project to be analyzed.\n",
                "- `analysis_level`: The analysis level to be used. This can be one of the following: \n",
                "  - `AnalysisLevel.SYMBOL_TABLE`: For analyzing the symbol tables of the application with the analysis engine's JavaParser.\n",
                "  - `AnalysisLevel.CALL_GRAPH`: To build the call graph of the application with the analysis engine's WALA.\n"
            ]
        },
        {
            "cell_type": "code",
            "execution_count": null,
            "id": "d7a2d9cd",
            "metadata": {},
            "outputs": [],
            "source": [
                "# Setup analysis object\n",
                "analysis = cldk.analysis(\n",
                "    project_path=\"commons-cli-rel-commons-cli-1.7.0\", #  <-- the path to the project we downloaded a few cells ago.\n",
                "    analysis_level=\"symbol table\",  # <-- This is the default, no need to specify it explicitly.\n",
                ")"
            ]
        },
        {
            "cell_type": "markdown",
            "id": "d5f506cf",
            "metadata": {},
            "source": [
                "> **NOTE:** This will take a few seconds to run, as it will analyze the entire project. \n",
                "> The analysis pipeline involves the following steps:\n",
                ">   1. **Dependency Resolution**: Maven or gradle is used to resolve the dependencies of the project and download them to a local directory.\n",
                ">   2. **Parsing**: The JavaParser library is used to parse the Java source code files and build an abstract syntax tree (AST) representation of the code.\n",
                ">   3. **Type Resolution**: The JavaParser library is used to resolve the types of the variables and methods in the code, which is necessary for building the symbol table and call graph.\n",
                ">   4. **Symbol Table Construction**: The symbol table is constructed from the AST, which includes information about the classes, methods, and variables in the code.\n",
                ">   5. **Call Graph Construction**: The call graph is constructed using the WALA library, which analyzes the control flow of the program and builds a graph representation of the method calls. (*Not executed this time because we set `analysis_level=\"symbol table\"`*)"
            ]
        },
        {
            "cell_type": "markdown",
            "id": "e46b56e0",
            "metadata": {},
            "source": [
                "### Putting it all together\n",
                "\n",
                "Now that we have the analysis object, we will take a slightly different approach to generate the test cases: \n",
                "\n",
                "We go through all the classes in the application, and for each class, \n",
                "   1. We collect the signatures of its constructors. \n",
                "   2. If a class has no constructors, we add the signature of the default constructor. \n",
                "   3. We go through each non-private method of the class and formulate the prompt using the constructor and the method information. \n",
                "\n",
                "Finally, we use the prompt to call the LLM to generate test cases and get the LLM response. "
            ]
        },
        {
            "cell_type": "markdown",
            "id": "bb667ff7",
            "metadata": {},
            "source": [
                "> **NOTE:** For the sake of simplicity, we run the test generation on a single class and method but this filter can be removed to run this code over the entire application."
            ]
        },
        {
            "cell_type": "code",
            "execution_count": null,
            "id": "a133caf9",
            "metadata": {},
            "outputs": [],
            "source": [
                "focal_class = \"org.apache.commons.cli.GnuParser\"\n",
                "focal_method = \"flatten(Options, String[], boolean)\""
            ]
        },
        {
            "cell_type": "code",
            "execution_count": null,
            "id": "da78a014",
            "metadata": {},
            "outputs": [],
            "source": [
                "# -----\n",
                "# I am importing class for type hinting (optional but recommended)\n",
                "from cldk.models.java import JType, JCallable\n",
                "# -----\n",
                "\n",
                "# Go through all the classes in the application\n",
                "for class_name in analysis.get_classes():\n",
                "    #  ^^^^^^^^^^^\n",
                "    #  This will return a list of all the classes in the application.\n",
                "    if class_name == focal_class:\n",
                "        print(f\"Class: {class_name}\")\n",
                "        class_details: JType = analysis.get_class(qualified_class_name=class_name)\n",
                "        #  ^^^^^\n",
                "        #  JType captures the class details, including its methods, fields, and modifiers, callables, etc.\n",
                "        focal_class_name = class_name.split(\".\")[-1]\n",
                "\n",
                "        # We will also ignore abstract classes\n",
                "        # __________\n",
                "        if not class_details.is_interface and \"abstract\" not in class_details.modifiers:\n",
                "            # ^^^^^^^^^^^^\n",
                "            # This will return True if the class is an interface, and False otherwise.\n",
                "\n",
                "            # Get all constructor signatures\n",
                "            constructor_signatures = \"\"\n",
                "\n",
                "            for method in analysis.get_methods_in_class(\n",
                "                                 # ^^^^^^^^^^^^^^^^^^^^\n",
                "                                 # This will return a list of all the methods in the class.\n",
                "                qualified_class_name=class_name\n",
                "            ):\n",
                "                method_details: JCallable = analysis.get_method(\n",
                "                    qualified_class_name=class_name, qualified_method_name=method\n",
                "                )\n",
                "\n",
                "                if method_details.is_constructor:\n",
                "                    # ^^^^^^^^^^^^^^\n",
                "                    # We can find if a method is a constructor with this field in JCallable\n",
                "                    constructor_signatures += method_details.signature + \"\\n\"\n",
                "\n",
                "            # If no constructor present, then add the signature of the default constructor\n",
                "            if constructor_signatures == \"\":\n",
                "                constructor_signatures = f\"public {focal_class_name}() \" + \"{}\"\n",
                "\n",
                "            # Go through all the methods in the class\n",
                "            for method in analysis.get_methods_in_class(\n",
                "                qualified_class_name=class_name\n",
                "            ):\n",
                "                if method == focal_method:\n",
                "                    # Get the method details\n",
                "                    method_details: JCallable = analysis.get_method(\n",
                "                        qualified_class_name=class_name, qualified_method_name=method\n",
                "                    )\n",
                "\n",
                "                    # Generate test cases for non-private methods\n",
                "                    if (\n",
                "                        \"private\" not in method_details.modifiers\n",
                "                        and not method_details.is_constructor\n",
                "                    ):\n",
                "\n",
                "                        # Gather all the information needed for the prompt, which are focal method body, focal method name, focal class name, and constructor signature\n",
                "                        instruction = format_inst(\n",
                "                            focal_method_body=method_details.declaration\n",
                "                            + method_details.code,\n",
                "                            focal_method=method.split(\"(\")[0],\n",
                "                            focal_class=focal_class_name,\n",
                "                            constructor_signatures=constructor_signatures,\n",
                "                            language=\"java\",\n",
                "                        )\n",
                "\n",
                "                        # Print the instruction\n",
                "                        print(f\"Instruction:\\n{instruction}\\n\")\n",
                "                        print(\n",
                "                            f\"Generating test case and it will take few minutes (or even seconds) based on where the model has been hosted...\\n\"\n",
                "                        )\n",
                "\n",
                "                        # Prompt the local model on Ollama\n",
                "                        llm_output = prompt(message=instruction)\n",
                "\n",
                "                        # Print the LLM output\n",
                "                        print(f\"LLM Output:\\n{llm_output}\")"
            ]
        }
    ],
    "metadata": {
        "kernelspec": {
            "display_name": "3.11.9",
            "language": "python",
            "name": "python3"
        },
        "language_info": {
            "codemirror_mode": {
                "name": "ipython",
                "version": 3
            },
            "file_extension": ".py",
            "mimetype": "text/x-python",
            "name": "python",
            "nbconvert_exporter": "python",
            "pygments_lexer": "ipython3",
            "version": "3.11.9"
        }
    },
    "nbformat": 4,
    "nbformat_minor": 5
}