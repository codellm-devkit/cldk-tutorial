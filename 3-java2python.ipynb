{
 "cells": [
  {
   "cell_type": "markdown",
   "id": "23880138",
   "metadata": {},
   "source": [
    "## CLDK Tutorial\n",
    "\n",
    "We'll be using CLDK and a large language model perform three simple tasks:\n",
    "1. Generate test cases for all the methods in a java application.\n",
    "2. Summarize the methods in a python application.\n",
    "3. Translate a python application to java."
   ]
  },
  {
   "cell_type": "code",
   "execution_count": null,
   "id": "a3cf0a13",
   "metadata": {},
   "outputs": [],
   "source": [
    "%%bash\n",
    "pip install -r requirements.txt"
   ]
  },
  {
   "cell_type": "markdown",
   "id": "561892dc",
   "metadata": {},
   "source": [
    "## Let's setup our LLM \n",
    "\n",
    "We'll be using open router, so we'll load the API key from the environment variable `OPENROUTER_API`."
   ]
  },
  {
   "cell_type": "code",
   "execution_count": null,
   "id": "93a37b5e-ab2f-4a5b-82da-b573fb6e62da",
   "metadata": {
    "slideshow": {
     "slide_type": "slide"
    }
   },
   "outputs": [],
   "source": [
    "## Import API keys\n",
    "import os\n",
    "from dotenv import load_dotenv\n",
    "\n",
    "load_dotenv(dotenv_path=os.getenv(\"PWD\") + \"/.env\")\n",
    "# Load environment variables from .env file\n",
    "    \n",
    "print(\"API keys loaded successfully.\")\n",
    "print(\"API_KEY:\", os.getenv(\"OPENROUTER_API\")[:20])"
   ]
  },
  {
   "cell_type": "markdown",
   "id": "cdfb5125",
   "metadata": {},
   "source": [
    "#### Let's create a simple prompting function\n",
    "\n",
    "This function will take a prompt and return the response from the OpenRouter API."
   ]
  },
  {
   "cell_type": "code",
   "execution_count": null,
   "id": "cda0bd89",
   "metadata": {},
   "outputs": [],
   "source": [
    "from openai import OpenAI\n",
    "\n",
    "\n",
    "def prompt(message: str) -> str:\n",
    "    \"\"\"\n",
    "    Function to prompt the user for input.\n",
    "    \"\"\"\n",
    "    client = OpenAI(\n",
    "        base_url=\"https://openrouter.ai/api/v1\",\n",
    "        api_key=os.getenv(\"OPENROUTER_API\"),  # OpenRouter API key\n",
    "    )\n",
    "    completion = client.chat.completions.create(\n",
    "        model=\"qwen/qwen3-8b:free\", messages=[{\"role\": \"user\", \"content\": message}]\n",
    "    )\n",
    "\n",
    "    return completion.choices[0].message.content\n",
    "\n",
    "def test_prompt():\n",
    "    \"\"\"\n",
    "    Test function to check if the prompt function works correctly.\n",
    "    \"\"\"\n",
    "    test_message = \"What is the capital of France?\"\n",
    "    response = prompt(test_message)\n",
    "    \n",
    "    assert \"Paris\" in response, f\"Expected response to contain 'Paris', but got '{response}'\"\n",
    "\n",
    "test_prompt()"
   ]
  },
  {
   "cell_type": "markdown",
   "id": "82dbf01d",
   "metadata": {},
   "source": [
    "## Summarize methods in a java application\n",
    "\n",
    "We'll start by dowloading apache commons cli for this tutorial. "
   ]
  },
  {
   "cell_type": "code",
   "execution_count": null,
   "id": "24a69fbe",
   "metadata": {
    "vscode": {
     "languageId": "shellscript"
    }
   },
   "outputs": [],
   "source": [
    "%%bash\n",
    "COMMONS=commons-cli-1.7.0  \n",
    "wget https://github.com/apache/commons-cli/archive/refs/tags/rel/$COMMONS.zip -O $COMMONS.zip && \\\n",
    "unzip -o $COMMONS.zip && \\\n",
    "rm -f $COMMONS.zip "
   ]
  },
  {
   "cell_type": "markdown",
   "id": "56f24b41",
   "metadata": {},
   "source": [
    "Next, let's create another helper function to formulate the prompt for summarizing the methods in a java application."
   ]
  },
  {
   "cell_type": "code",
   "execution_count": null,
   "id": "95a819b2",
   "metadata": {},
   "outputs": [],
   "source": [
    "def format_inst(code, focal_method, focal_class, language):\n",
    "    \"\"\"\n",
    "    Format the instruction for the given focal method and class.\n",
    "    \"\"\"\n",
    "    inst = f\"Question: Can you write a brief summary for the method `{focal_method}` in the class `{focal_class}` below?\\n\"\n",
    "\n",
    "    inst += \"\\n\"\n",
    "    inst += f\"```{language}\\n\"\n",
    "    inst += code\n",
    "    inst += \"```\" if code.endswith(\"\\n\") else \"\\n```\"\n",
    "    inst += \"\\n\"\n",
    "    return inst"
   ]
  },
  {
   "cell_type": "markdown",
   "id": "b9eaa456",
   "metadata": {},
   "source": [
    "Let's initialize CLDK with Java as the language"
   ]
  },
  {
   "cell_type": "code",
   "execution_count": null,
   "id": "85f59e08",
   "metadata": {},
   "outputs": [],
   "source": [
    "from cldk import CLDK\n",
    "\n",
    "cldk = CLDK(language=\"java\")"
   ]
  },
  {
   "cell_type": "markdown",
   "id": "14adaaaf",
   "metadata": {},
   "source": [
    "#### Generate analysis artifacts\n",
    "\n",
    "##### What is CLDK analysis?\n",
    "CLDK uses [CodeAnalyzer](https://github.com/codellm-devkit/codeanalyzer-java) (built with [WALA](https://github.com/wala/WALA) and [JavaParser](https://github.com/javaparser/javaparser))as the Java analysis engine. CLDK supports different analysis levels: 1) symbol table, 2) call graph, 3) system dependency graph. \n",
    "\n",
    "The analysis level can be selected using the `AnalysisLevel` enumerated type. For this example, we select the symbol-table analysis level, with CodeAnalyzer as the default analysis engine.\n",
    "\n",
    "> **NOTE:** If the next cell throws an error `CalledProcessError`, make sure you have a working Java installation! See the [**CLDK Documentation**](https://codellm-devkit.info/installing/#java-analysis) for how to set this up.\n",
    "\n",
    "##### How to create an analysis object?\n",
    "\n",
    "To create an analysis object, we call `cldk.analysis(...)` with the following parameters:\n",
    "- `project_path`: The path to the project to be analyzed.\n",
    "- `analysis_level`: The analysis level to be used. This can be one of the following: \n",
    "  - `AnalysisLevel.SYMBOL_TABLE`: For analyzing the symbol tables of the application with the analysis engine's JavaParser.\n",
    "  - `AnalysisLevel.CALL_GRAPH`: To build the call graph of the application with the analysis engine's WALA.\n"
   ]
  },
  {
   "cell_type": "code",
   "execution_count": null,
   "id": "d7a2d9cd",
   "metadata": {},
   "outputs": [],
   "source": [
    "# Setup analysis object\n",
    "analysis = cldk.analysis(\n",
    "    project_path=\"commons-cli-rel-commons-cli-1.7.0\", #  <-- the path to the project we downloaded a few cells ago.\n",
    "    analysis_level=\"symbol table\",  # <-- This is the default, no need to specify it explicitly.\n",
    ")"
   ]
  },
  {
   "cell_type": "markdown",
   "id": "d5f506cf",
   "metadata": {},
   "source": [
    "> **NOTE:** This will take a few seconds to run, as it will analyze the entire project. \n",
    "> The analysis pipeline involves the following steps:\n",
    ">   1. **Dependency Resolution**: Maven or gradle is used to resolve the dependencies of the project and download them to a local directory.\n",
    ">   2. **Parsing**: The JavaParser library is used to parse the Java source code files and build an abstract syntax tree (AST) representation of the code.\n",
    ">   3. **Type Resolution**: The JavaParser library is used to resolve the types of the variables and methods in the code, which is necessary for building the symbol table and call graph.\n",
    ">   4. **Symbol Table Construction**: The symbol table is constructed from the AST, which includes information about the classes, methods, and variables in the code.\n",
    ">   5. **Call Graph Construction**: The call graph is constructed using the WALA library, which analyzes the control flow of the program and builds a graph representation of the method calls. (*Not executed this time because we set `analysis_level=\"symbol table\"`*)"
   ]
  },
  {
   "cell_type": "markdown",
   "id": "62dff78d",
   "metadata": {},
   "source": [
    "### Sanitize class of prompt composition\n",
    "\n",
    "Instead of passing the entire class for summarization, we can pass the class name and the methods in the class and all the reference the focal method makes: imports, fields, etc. This will help the LLM to focus on the methods and their dependencies, rather than the entire class. To illustrate, consider the floowing class:\n",
    "\n",
    "```java\n",
    "package com.ibm.org;\n",
    "import A.B.C.D;\n",
    "...\n",
    "public class Foo {\n",
    " // code comment\n",
    " public void bar(){\n",
    "    int a;\n",
    "    a = baz();\n",
    "    // do something\n",
    "    }\n",
    " private int baz()\n",
    " {\n",
    "    // do something\n",
    " }\n",
    " public String dummy (String a)\n",
    " {\n",
    "    // do somthing\n",
    " }\n",
    "```\n",
    "\n",
    "Let's say we want to generate a summary for method `bar`. To understand what it does, we add the callees of this method in the prompt, which in this case includes `baz`. We remove the other methods, imports, comments, etc.\n",
    "\n",
    "With CLDK this can be very easily done. All of this can be achieved with a single call to CLDK's `sanitize_focal_class` API!"
   ]
  },
  {
   "cell_type": "markdown",
   "id": "e46b56e0",
   "metadata": {},
   "source": [
    "### Putting it all together\n",
    "\n",
    "Now that we have the analysis object, we can use it to generate the prompt for summarizing the methods in the java application. We can use CLDK to \n",
    "\n",
    "1. iterate over all the methods in all the classes, \n",
    "2. sanitize them with the `sanitize_focal_class` API, \n",
    "3. compose a prompt with our `format_inst(...)` function we wrote a few cells ago, and\n",
    "4. call `prompt(...)` method we wrote earlier to get the summary of the methods.\n",
    "\n"
   ]
  },
  {
   "cell_type": "markdown",
   "id": "bb667ff7",
   "metadata": {},
   "source": [
    "> **NOTE:** For the sake of simplicity, we run the code summarization on a single class and method but this filter can be removed to run this code over the entire application."
   ]
  },
  {
   "cell_type": "code",
   "execution_count": 44,
   "id": "a133caf9",
   "metadata": {},
   "outputs": [],
   "source": [
    "target_class = \"org.apache.commons.cli.GnuParser\"\n",
    "target_method = \"flatten(Options, String[], boolean)\""
   ]
  },
  {
   "cell_type": "code",
   "execution_count": 45,
   "id": "da78a014",
   "metadata": {},
   "outputs": [
    {
     "name": "stdout",
     "output_type": "stream",
     "text": [
      "Class: org.apache.commons.cli.GnuParser\n",
      "Instruction:\n",
      "Question: Can you write a brief summary for the method `protected String[] flatten(final Options options, final String[] arguments, final boolean stopAtNonOption)` in the class `GnuParser` below?\n",
      "\n",
      "```java\n",
      "package org.apache.commons.cli;\n",
      "\n",
      "import java.util.ArrayList;\n",
      "import java.util.List;\n",
      "\n",
      "@Deprecated\n",
      "public class GnuParser extends Parser {\n",
      "\n",
      "    @Override\n",
      "    protected String[] flatten(final Options options, final String[] arguments, final boolean stopAtNonOption) {\n",
      "        final List<String> tokens = new ArrayList<>();\n",
      "        boolean eatTheRest = false;\n",
      "        for (int i = 0; i < arguments.length; i++) {\n",
      "            final String arg = arguments[i];\n",
      "            if (\"--\".equals(arg)) {\n",
      "                eatTheRest = true;\n",
      "                tokens.add(\"--\");\n",
      "            } else if (\"-\".equals(arg)) {\n",
      "                tokens.add(\"-\");\n",
      "            } else if (arg.startsWith(\"-\")) {\n",
      "                final String opt = Util.stripLeadingHyphens(arg);\n",
      "                if (options.hasOption(opt)) {\n",
      "                    tokens.add(arg);\n",
      "                } else {\n",
      "                    final int equalPos = DefaultParser.indexOfEqual(opt);\n",
      "                    if (equalPos != -1 && options.hasOption(opt.substring(0, equalPos))) {\n",
      "                        tokens.add(arg.substring(0, arg.indexOf(Char.EQUAL))); // --foo\n",
      "                        tokens.add(arg.substring(arg.indexOf(Char.EQUAL) + 1)); // value\n",
      "                    } else if (options.hasOption(arg.substring(0, 2))) {\n",
      "                        tokens.add(arg.substring(0, 2)); // -D\n",
      "                        tokens.add(arg.substring(2)); // property=value\n",
      "                    } else {\n",
      "                        eatTheRest = stopAtNonOption;\n",
      "                        tokens.add(arg);\n",
      "                    }\n",
      "                }\n",
      "            } else {\n",
      "                tokens.add(arg);\n",
      "            }\n",
      "\n",
      "            if (eatTheRest) {\n",
      "                for (i++; i < arguments.length; i++) { // NOPMD\n",
      "                    tokens.add(arguments[i]);\n",
      "                }\n",
      "            }\n",
      "        }\n",
      "\n",
      "        return tokens.toArray(Util.EMPTY_STRING_ARRAY);\n",
      "    }\n",
      "}\n",
      "```\n",
      "\n",
      "\n",
      "Generating code summary and it will take few minutes (or even seconds) based on where the model has been hosted...\n",
      "\n",
      "LLM Output:\n",
      "The `flatten` method in the `GnuParser` class processes command-line arguments according to GNU-style parsing rules. It converts options and their values into separate tokens, handles special cases like `--` (to terminate option processing) and `-` (to pass through literal arguments), and splits multi-part options (e.g., `--foo=value` into `--foo` and `value`). If `stopAtNonOption` is true, it stops processing arguments after encountering a non-option. The result is an array of tokens representing the parsed arguments. \n",
      "\n",
      "**Summary:**  \n",
      "This method flattens command-line arguments into tokens, adhering to GNU parsing conventions, splitting options and values, and handling special cases like `--` and `-`, while optionally stopping at non-option arguments.\n"
     ]
    }
   ],
   "source": [
    "# -----\n",
    "# I am import class for type hinting (optional but recommended)\n",
    "from cldk.utils.sanitization.java import TreesitterSanitizer\n",
    "from cldk.models.java import JCallable\n",
    "# -----\n",
    "\n",
    "\n",
    "# Iterate over all classes in the application\n",
    "for class_name in analysis.get_classes():\n",
    "    if class_name == target_class:\n",
    "        print(f\"Class: {class_name}\")\n",
    "        # -----\n",
    "        # The `get_java_file` method returns the path to the Java file for the given class name.\n",
    "        class_file_path = analysis.get_java_file(qualified_class_name=class_name)\n",
    "        # -----\n",
    "\n",
    "        # Read code for the class\n",
    "        with open(class_file_path, \"r\") as f:\n",
    "            code_body = f.read()\n",
    "\n",
    "        # -----\n",
    "        # `tree_sitter_utils` is a utility class that provides methods for working directly with the source code string\n",
    "        # -----\n",
    "        tree_sitter_utils: TreesitterSanitizer = cldk.tree_sitter_utils(source_code=code_body)\n",
    "        #                  ^^^^^^^^^^^^^^^^^^^\n",
    "        #                  This the TreesitterSanitizer object that we will use to sanitize the code.\n",
    "\n",
    "        # Iterate over all methods in class\n",
    "        for method in analysis.get_methods_in_class(qualified_class_name=class_name): # <-- This API takes the class name     \n",
    "            #     to get all the methods there.\n",
    "            if method == target_method:\n",
    "                # -----\n",
    "                # Now we can get the pydantic object that corresponds to the method we are interested in\n",
    "                # with the `get_method` API.\n",
    "                # -----\n",
    "                method_details: JCallable = analysis.get_method(\n",
    "                #               ^^^^^^^^^\n",
    "                #               This is the JCallable object that we will use to get the method details.\n",
    "                    qualified_class_name=class_name, qualified_method_name=method\n",
    "                )\n",
    "\n",
    "                # Sanitize the class for analysis with respect to the target method\n",
    "                sanitized_class = tree_sitter_utils.sanitize_focal_class(\n",
    "                    method_details.declaration # <-- This is the method declaration string \n",
    "                )\n",
    "                # The `sanitize_focal_class` method will remove all the methods that are not in the class, it will also\n",
    "                # remove the imports, fields, nested classes, and other auxiliary declerations. The outcome will be a\n",
    "                # \"cleaned\" class that only contains the method we are interested in, and all its references.\n",
    "                \n",
    "                \n",
    "                # Format the instruction for the given target method and class\n",
    "                instruction = format_inst(\n",
    "                    code=sanitized_class,\n",
    "                    focal_method=method_details.declaration,\n",
    "                    focal_class=class_name.split(\".\")[-1],\n",
    "                    language=\"java\",\n",
    "                )\n",
    "\n",
    "                print(f\"Instruction:\\n{instruction}\\n\")\n",
    "                print(\n",
    "                    f\"Generating code summary and it will take few minutes (or even seconds) based on where the model has been hosted...\\n\"\n",
    "                )\n",
    "\n",
    "                # Prompt the the model on OpenRouter\n",
    "                llm_output = prompt(message=instruction)\n",
    "\n",
    "                # Print the LLM output\n",
    "                print(f\"LLM Output:\\n{llm_output}\")"
   ]
  }
 ],
 "metadata": {
  "kernelspec": {
   "display_name": "3.11.9",
   "language": "python",
   "name": "python3"
  },
  "language_info": {
   "codemirror_mode": {
    "name": "ipython",
    "version": 3
   },
   "file_extension": ".py",
   "mimetype": "text/x-python",
   "name": "python",
   "nbconvert_exporter": "python",
   "pygments_lexer": "ipython3",
   "version": "3.11.9"
  }
 },
 "nbformat": 4,
 "nbformat_minor": 5
}
